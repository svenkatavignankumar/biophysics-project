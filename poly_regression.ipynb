{
  "nbformat": 4,
  "nbformat_minor": 0,
  "metadata": {
    "colab": {
      "provenance": []
    },
    "kernelspec": {
      "name": "python3",
      "display_name": "Python 3"
    },
    "language_info": {
      "name": "python"
    }
  },
  "cells": [
    {
      "cell_type": "code",
      "execution_count": null,
      "metadata": {
        "colab": {
          "base_uri": "https://localhost:8080/"
        },
        "id": "1AcTAiMYVzbZ",
        "outputId": "cf541e58-c3b9-4c3b-9f16-1706ee2193e9"
      },
      "outputs": [
        {
          "output_type": "stream",
          "name": "stdout",
          "text": [
            "Drive already mounted at /content/drive; to attempt to forcibly remount, call drive.mount(\"/content/drive\", force_remount=True).\n"
          ]
        }
      ],
      "source": [
        "from google.colab import drive\n",
        "drive.mount('/content/drive')"
      ]
    },
    {
      "cell_type": "code",
      "source": [
        "import numpy as np\n",
        "import pandas as pd \n",
        "import matplotlib.pyplot as plt \n",
        "import seaborn as sns \n",
        "from sklearn.preprocessing import PolynomialFeatures\n",
        "from sklearn.linear_model import LinearRegression\n",
        "from sklearn.pipeline import make_pipeline\n",
        "from sklearn.model_selection import train_test_split\n",
        "from sklearn.metrics import accuracy_score"
      ],
      "metadata": {
        "id": "7MlOViDhV0xB"
      },
      "execution_count": null,
      "outputs": []
    },
    {
      "cell_type": "code",
      "source": [
        "dataset = pd.read_csv('/content/drive/MyDrive/5000_final.csv')"
      ],
      "metadata": {
        "id": "5JoHaAiYV7OS"
      },
      "execution_count": null,
      "outputs": []
    },
    {
      "cell_type": "code",
      "source": [
        "dataset.head()"
      ],
      "metadata": {
        "colab": {
          "base_uri": "https://localhost:8080/",
          "height": 287
        },
        "id": "IG5pnaw3V-u8",
        "outputId": "6042c488-feb8-4862-8902-fbc16ad524d5"
      },
      "execution_count": null,
      "outputs": [
        {
          "output_type": "execute_result",
          "data": {
            "text/plain": [
              "  pdbid  binding_affinity (kcal/mol)  binding_affinity_sd (kcal/mol)  \\\n",
              "0  6g3f                     -0.25570                         1.19548   \n",
              "1  5fpd                     -2.61456                         2.67150   \n",
              "2  6hxe                     -0.98558                         2.57244   \n",
              "3  5nqb                     -1.05920                         1.90178   \n",
              "4  4q3f                     -1.52816                         1.87006   \n",
              "\n",
              "   electrostatic (kcal/mol)  electrostatic_sd (kcal/mol)  \\\n",
              "0                  -0.98408                      1.12502   \n",
              "1                  -1.01432                      1.22772   \n",
              "2                  -8.41628                      3.52346   \n",
              "3                 -36.85828                     13.23790   \n",
              "4                  -5.36862                      3.20528   \n",
              "\n",
              "   polar_solvation (kcal/mol)  polar_solvation_sd (kcal/mol)  \\\n",
              "0                    -0.34568                        0.24300   \n",
              "1                    -0.56942                        0.40202   \n",
              "2                    -0.81082                        0.32616   \n",
              "3                    -0.46456                        0.24828   \n",
              "4                    -0.74246                        0.32006   \n",
              "\n",
              "   non_polar_solvation (kcal/mol)  non_polar_solvation_sd (kcal/mol)  \\\n",
              "0                         1.26248                            1.12080   \n",
              "1                         1.62432                            1.48674   \n",
              "2                         7.90220                            3.00116   \n",
              "3                        34.03790                           11.65862   \n",
              "4                         5.44818                            2.73016   \n",
              "\n",
              "   vdW (kcal/mol)  \n",
              "0        -0.18842  \n",
              "1        -2.65510  \n",
              "2         0.33930  \n",
              "3         2.22572  \n",
              "4        -0.86530  "
            ],
            "text/html": [
              "\n",
              "  <div id=\"df-16f3741d-f46d-40ef-8c20-4f302b2cb18c\">\n",
              "    <div class=\"colab-df-container\">\n",
              "      <div>\n",
              "<style scoped>\n",
              "    .dataframe tbody tr th:only-of-type {\n",
              "        vertical-align: middle;\n",
              "    }\n",
              "\n",
              "    .dataframe tbody tr th {\n",
              "        vertical-align: top;\n",
              "    }\n",
              "\n",
              "    .dataframe thead th {\n",
              "        text-align: right;\n",
              "    }\n",
              "</style>\n",
              "<table border=\"1\" class=\"dataframe\">\n",
              "  <thead>\n",
              "    <tr style=\"text-align: right;\">\n",
              "      <th></th>\n",
              "      <th>pdbid</th>\n",
              "      <th>binding_affinity (kcal/mol)</th>\n",
              "      <th>binding_affinity_sd (kcal/mol)</th>\n",
              "      <th>electrostatic (kcal/mol)</th>\n",
              "      <th>electrostatic_sd (kcal/mol)</th>\n",
              "      <th>polar_solvation (kcal/mol)</th>\n",
              "      <th>polar_solvation_sd (kcal/mol)</th>\n",
              "      <th>non_polar_solvation (kcal/mol)</th>\n",
              "      <th>non_polar_solvation_sd (kcal/mol)</th>\n",
              "      <th>vdW (kcal/mol)</th>\n",
              "    </tr>\n",
              "  </thead>\n",
              "  <tbody>\n",
              "    <tr>\n",
              "      <th>0</th>\n",
              "      <td>6g3f</td>\n",
              "      <td>-0.25570</td>\n",
              "      <td>1.19548</td>\n",
              "      <td>-0.98408</td>\n",
              "      <td>1.12502</td>\n",
              "      <td>-0.34568</td>\n",
              "      <td>0.24300</td>\n",
              "      <td>1.26248</td>\n",
              "      <td>1.12080</td>\n",
              "      <td>-0.18842</td>\n",
              "    </tr>\n",
              "    <tr>\n",
              "      <th>1</th>\n",
              "      <td>5fpd</td>\n",
              "      <td>-2.61456</td>\n",
              "      <td>2.67150</td>\n",
              "      <td>-1.01432</td>\n",
              "      <td>1.22772</td>\n",
              "      <td>-0.56942</td>\n",
              "      <td>0.40202</td>\n",
              "      <td>1.62432</td>\n",
              "      <td>1.48674</td>\n",
              "      <td>-2.65510</td>\n",
              "    </tr>\n",
              "    <tr>\n",
              "      <th>2</th>\n",
              "      <td>6hxe</td>\n",
              "      <td>-0.98558</td>\n",
              "      <td>2.57244</td>\n",
              "      <td>-8.41628</td>\n",
              "      <td>3.52346</td>\n",
              "      <td>-0.81082</td>\n",
              "      <td>0.32616</td>\n",
              "      <td>7.90220</td>\n",
              "      <td>3.00116</td>\n",
              "      <td>0.33930</td>\n",
              "    </tr>\n",
              "    <tr>\n",
              "      <th>3</th>\n",
              "      <td>5nqb</td>\n",
              "      <td>-1.05920</td>\n",
              "      <td>1.90178</td>\n",
              "      <td>-36.85828</td>\n",
              "      <td>13.23790</td>\n",
              "      <td>-0.46456</td>\n",
              "      <td>0.24828</td>\n",
              "      <td>34.03790</td>\n",
              "      <td>11.65862</td>\n",
              "      <td>2.22572</td>\n",
              "    </tr>\n",
              "    <tr>\n",
              "      <th>4</th>\n",
              "      <td>4q3f</td>\n",
              "      <td>-1.52816</td>\n",
              "      <td>1.87006</td>\n",
              "      <td>-5.36862</td>\n",
              "      <td>3.20528</td>\n",
              "      <td>-0.74246</td>\n",
              "      <td>0.32006</td>\n",
              "      <td>5.44818</td>\n",
              "      <td>2.73016</td>\n",
              "      <td>-0.86530</td>\n",
              "    </tr>\n",
              "  </tbody>\n",
              "</table>\n",
              "</div>\n",
              "      <button class=\"colab-df-convert\" onclick=\"convertToInteractive('df-16f3741d-f46d-40ef-8c20-4f302b2cb18c')\"\n",
              "              title=\"Convert this dataframe to an interactive table.\"\n",
              "              style=\"display:none;\">\n",
              "        \n",
              "  <svg xmlns=\"http://www.w3.org/2000/svg\" height=\"24px\"viewBox=\"0 0 24 24\"\n",
              "       width=\"24px\">\n",
              "    <path d=\"M0 0h24v24H0V0z\" fill=\"none\"/>\n",
              "    <path d=\"M18.56 5.44l.94 2.06.94-2.06 2.06-.94-2.06-.94-.94-2.06-.94 2.06-2.06.94zm-11 1L8.5 8.5l.94-2.06 2.06-.94-2.06-.94L8.5 2.5l-.94 2.06-2.06.94zm10 10l.94 2.06.94-2.06 2.06-.94-2.06-.94-.94-2.06-.94 2.06-2.06.94z\"/><path d=\"M17.41 7.96l-1.37-1.37c-.4-.4-.92-.59-1.43-.59-.52 0-1.04.2-1.43.59L10.3 9.45l-7.72 7.72c-.78.78-.78 2.05 0 2.83L4 21.41c.39.39.9.59 1.41.59.51 0 1.02-.2 1.41-.59l7.78-7.78 2.81-2.81c.8-.78.8-2.07 0-2.86zM5.41 20L4 18.59l7.72-7.72 1.47 1.35L5.41 20z\"/>\n",
              "  </svg>\n",
              "      </button>\n",
              "      \n",
              "  <style>\n",
              "    .colab-df-container {\n",
              "      display:flex;\n",
              "      flex-wrap:wrap;\n",
              "      gap: 12px;\n",
              "    }\n",
              "\n",
              "    .colab-df-convert {\n",
              "      background-color: #E8F0FE;\n",
              "      border: none;\n",
              "      border-radius: 50%;\n",
              "      cursor: pointer;\n",
              "      display: none;\n",
              "      fill: #1967D2;\n",
              "      height: 32px;\n",
              "      padding: 0 0 0 0;\n",
              "      width: 32px;\n",
              "    }\n",
              "\n",
              "    .colab-df-convert:hover {\n",
              "      background-color: #E2EBFA;\n",
              "      box-shadow: 0px 1px 2px rgba(60, 64, 67, 0.3), 0px 1px 3px 1px rgba(60, 64, 67, 0.15);\n",
              "      fill: #174EA6;\n",
              "    }\n",
              "\n",
              "    [theme=dark] .colab-df-convert {\n",
              "      background-color: #3B4455;\n",
              "      fill: #D2E3FC;\n",
              "    }\n",
              "\n",
              "    [theme=dark] .colab-df-convert:hover {\n",
              "      background-color: #434B5C;\n",
              "      box-shadow: 0px 1px 3px 1px rgba(0, 0, 0, 0.15);\n",
              "      filter: drop-shadow(0px 1px 2px rgba(0, 0, 0, 0.3));\n",
              "      fill: #FFFFFF;\n",
              "    }\n",
              "  </style>\n",
              "\n",
              "      <script>\n",
              "        const buttonEl =\n",
              "          document.querySelector('#df-16f3741d-f46d-40ef-8c20-4f302b2cb18c button.colab-df-convert');\n",
              "        buttonEl.style.display =\n",
              "          google.colab.kernel.accessAllowed ? 'block' : 'none';\n",
              "\n",
              "        async function convertToInteractive(key) {\n",
              "          const element = document.querySelector('#df-16f3741d-f46d-40ef-8c20-4f302b2cb18c');\n",
              "          const dataTable =\n",
              "            await google.colab.kernel.invokeFunction('convertToInteractive',\n",
              "                                                     [key], {});\n",
              "          if (!dataTable) return;\n",
              "\n",
              "          const docLinkHtml = 'Like what you see? Visit the ' +\n",
              "            '<a target=\"_blank\" href=https://colab.research.google.com/notebooks/data_table.ipynb>data table notebook</a>'\n",
              "            + ' to learn more about interactive tables.';\n",
              "          element.innerHTML = '';\n",
              "          dataTable['output_type'] = 'display_data';\n",
              "          await google.colab.output.renderOutput(dataTable, element);\n",
              "          const docLink = document.createElement('div');\n",
              "          docLink.innerHTML = docLinkHtml;\n",
              "          element.appendChild(docLink);\n",
              "        }\n",
              "      </script>\n",
              "    </div>\n",
              "  </div>\n",
              "  "
            ]
          },
          "metadata": {},
          "execution_count": 64
        }
      ]
    },
    {
      "cell_type": "code",
      "source": [
        "X = dataset.iloc[:,3:]"
      ],
      "metadata": {
        "id": "1CAFUHGLWINB"
      },
      "execution_count": null,
      "outputs": []
    },
    {
      "cell_type": "code",
      "source": [
        "y = dataset.iloc[:,1]"
      ],
      "metadata": {
        "id": "h0oye340WKhf"
      },
      "execution_count": null,
      "outputs": []
    },
    {
      "cell_type": "code",
      "source": [
        "X_train,X_test,y_train,y_test = train_test_split(X,y,test_size = 0.2,random_state = 42)"
      ],
      "metadata": {
        "id": "cG9gfqrJWLLv"
      },
      "execution_count": null,
      "outputs": []
    },
    {
      "cell_type": "code",
      "source": [
        "# Use polynomial features\n",
        "degree = 2  # adjust degree to change the complexity of the model\n",
        "poly = PolynomialFeatures(degree)\n",
        "X_train_poly = poly.fit_transform(X_train)\n",
        "X_test_poly = poly.transform(X_test)"
      ],
      "metadata": {
        "id": "eaFl3ltLWPz6"
      },
      "execution_count": null,
      "outputs": []
    },
    {
      "cell_type": "code",
      "source": [
        "# Create a pipeline with polynomial features and a linear regression model\n",
        "pipeline = make_pipeline(poly, LinearRegression())\n",
        "pipeline.fit(X_train, y_train)"
      ],
      "metadata": {
        "colab": {
          "base_uri": "https://localhost:8080/",
          "height": 125
        },
        "id": "SvDruZjsWUKi",
        "outputId": "982077c4-309d-4b54-dd8b-233487e2e10d"
      },
      "execution_count": null,
      "outputs": [
        {
          "output_type": "execute_result",
          "data": {
            "text/plain": [
              "Pipeline(steps=[('polynomialfeatures', PolynomialFeatures()),\n",
              "                ('linearregression', LinearRegression())])"
            ],
            "text/html": [
              "<style>#sk-container-id-5 {color: black;background-color: white;}#sk-container-id-5 pre{padding: 0;}#sk-container-id-5 div.sk-toggleable {background-color: white;}#sk-container-id-5 label.sk-toggleable__label {cursor: pointer;display: block;width: 100%;margin-bottom: 0;padding: 0.3em;box-sizing: border-box;text-align: center;}#sk-container-id-5 label.sk-toggleable__label-arrow:before {content: \"▸\";float: left;margin-right: 0.25em;color: #696969;}#sk-container-id-5 label.sk-toggleable__label-arrow:hover:before {color: black;}#sk-container-id-5 div.sk-estimator:hover label.sk-toggleable__label-arrow:before {color: black;}#sk-container-id-5 div.sk-toggleable__content {max-height: 0;max-width: 0;overflow: hidden;text-align: left;background-color: #f0f8ff;}#sk-container-id-5 div.sk-toggleable__content pre {margin: 0.2em;color: black;border-radius: 0.25em;background-color: #f0f8ff;}#sk-container-id-5 input.sk-toggleable__control:checked~div.sk-toggleable__content {max-height: 200px;max-width: 100%;overflow: auto;}#sk-container-id-5 input.sk-toggleable__control:checked~label.sk-toggleable__label-arrow:before {content: \"▾\";}#sk-container-id-5 div.sk-estimator input.sk-toggleable__control:checked~label.sk-toggleable__label {background-color: #d4ebff;}#sk-container-id-5 div.sk-label input.sk-toggleable__control:checked~label.sk-toggleable__label {background-color: #d4ebff;}#sk-container-id-5 input.sk-hidden--visually {border: 0;clip: rect(1px 1px 1px 1px);clip: rect(1px, 1px, 1px, 1px);height: 1px;margin: -1px;overflow: hidden;padding: 0;position: absolute;width: 1px;}#sk-container-id-5 div.sk-estimator {font-family: monospace;background-color: #f0f8ff;border: 1px dotted black;border-radius: 0.25em;box-sizing: border-box;margin-bottom: 0.5em;}#sk-container-id-5 div.sk-estimator:hover {background-color: #d4ebff;}#sk-container-id-5 div.sk-parallel-item::after {content: \"\";width: 100%;border-bottom: 1px solid gray;flex-grow: 1;}#sk-container-id-5 div.sk-label:hover label.sk-toggleable__label {background-color: #d4ebff;}#sk-container-id-5 div.sk-serial::before {content: \"\";position: absolute;border-left: 1px solid gray;box-sizing: border-box;top: 0;bottom: 0;left: 50%;z-index: 0;}#sk-container-id-5 div.sk-serial {display: flex;flex-direction: column;align-items: center;background-color: white;padding-right: 0.2em;padding-left: 0.2em;position: relative;}#sk-container-id-5 div.sk-item {position: relative;z-index: 1;}#sk-container-id-5 div.sk-parallel {display: flex;align-items: stretch;justify-content: center;background-color: white;position: relative;}#sk-container-id-5 div.sk-item::before, #sk-container-id-5 div.sk-parallel-item::before {content: \"\";position: absolute;border-left: 1px solid gray;box-sizing: border-box;top: 0;bottom: 0;left: 50%;z-index: -1;}#sk-container-id-5 div.sk-parallel-item {display: flex;flex-direction: column;z-index: 1;position: relative;background-color: white;}#sk-container-id-5 div.sk-parallel-item:first-child::after {align-self: flex-end;width: 50%;}#sk-container-id-5 div.sk-parallel-item:last-child::after {align-self: flex-start;width: 50%;}#sk-container-id-5 div.sk-parallel-item:only-child::after {width: 0;}#sk-container-id-5 div.sk-dashed-wrapped {border: 1px dashed gray;margin: 0 0.4em 0.5em 0.4em;box-sizing: border-box;padding-bottom: 0.4em;background-color: white;}#sk-container-id-5 div.sk-label label {font-family: monospace;font-weight: bold;display: inline-block;line-height: 1.2em;}#sk-container-id-5 div.sk-label-container {text-align: center;}#sk-container-id-5 div.sk-container {/* jupyter's `normalize.less` sets `[hidden] { display: none; }` but bootstrap.min.css set `[hidden] { display: none !important; }` so we also need the `!important` here to be able to override the default hidden behavior on the sphinx rendered scikit-learn.org. See: https://github.com/scikit-learn/scikit-learn/issues/21755 */display: inline-block !important;position: relative;}#sk-container-id-5 div.sk-text-repr-fallback {display: none;}</style><div id=\"sk-container-id-5\" class=\"sk-top-container\"><div class=\"sk-text-repr-fallback\"><pre>Pipeline(steps=[(&#x27;polynomialfeatures&#x27;, PolynomialFeatures()),\n",
              "                (&#x27;linearregression&#x27;, LinearRegression())])</pre><b>In a Jupyter environment, please rerun this cell to show the HTML representation or trust the notebook. <br />On GitHub, the HTML representation is unable to render, please try loading this page with nbviewer.org.</b></div><div class=\"sk-container\" hidden><div class=\"sk-item sk-dashed-wrapped\"><div class=\"sk-label-container\"><div class=\"sk-label sk-toggleable\"><input class=\"sk-toggleable__control sk-hidden--visually\" id=\"sk-estimator-id-13\" type=\"checkbox\" ><label for=\"sk-estimator-id-13\" class=\"sk-toggleable__label sk-toggleable__label-arrow\">Pipeline</label><div class=\"sk-toggleable__content\"><pre>Pipeline(steps=[(&#x27;polynomialfeatures&#x27;, PolynomialFeatures()),\n",
              "                (&#x27;linearregression&#x27;, LinearRegression())])</pre></div></div></div><div class=\"sk-serial\"><div class=\"sk-item\"><div class=\"sk-estimator sk-toggleable\"><input class=\"sk-toggleable__control sk-hidden--visually\" id=\"sk-estimator-id-14\" type=\"checkbox\" ><label for=\"sk-estimator-id-14\" class=\"sk-toggleable__label sk-toggleable__label-arrow\">PolynomialFeatures</label><div class=\"sk-toggleable__content\"><pre>PolynomialFeatures()</pre></div></div></div><div class=\"sk-item\"><div class=\"sk-estimator sk-toggleable\"><input class=\"sk-toggleable__control sk-hidden--visually\" id=\"sk-estimator-id-15\" type=\"checkbox\" ><label for=\"sk-estimator-id-15\" class=\"sk-toggleable__label sk-toggleable__label-arrow\">LinearRegression</label><div class=\"sk-toggleable__content\"><pre>LinearRegression()</pre></div></div></div></div></div></div></div>"
            ]
          },
          "metadata": {},
          "execution_count": 69
        }
      ]
    },
    {
      "cell_type": "code",
      "source": [
        "score = pipeline.score(X_test, y_test)\n",
        "\n",
        "score"
      ],
      "metadata": {
        "colab": {
          "base_uri": "https://localhost:8080/"
        },
        "id": "6U8haf-mWWkF",
        "outputId": "0da8fcf7-f175-4fc8-8402-872468f80d3a"
      },
      "execution_count": null,
      "outputs": [
        {
          "output_type": "execute_result",
          "data": {
            "text/plain": [
              "0.9999257957776051"
            ]
          },
          "metadata": {},
          "execution_count": 70
        }
      ]
    },
    {
      "cell_type": "code",
      "source": [
        "# autodock_results = pd.read_csv('/content/drive/MyDrive/autodock_results.csv')\n",
        "\n",
        "# # Extract the relevant energy columns\n",
        "# energy_columns = [\"electrostatic (kcal/mol)\", \"electrostatic_sd (kcal/mol)\", \"polar_solvation (kcal/mol)\", \"polar_solvation_sd (kcal/mol)\", \"non_polar_solvation (kcal/mol)\", \"non_polar_solvation_sd (kcal/mol)\", \"vdW (kcal/mol)\"]\n",
        "# new_data = autodock_results[energy_columns]\n",
        "\n",
        "# # Use the trained model to predict the binding affinity values for the new data\n",
        "# predicted_binding_affinity = pipeline.predict(new_data)\n",
        "\n",
        "# # Add the predicted binding affinity values to the Autodock results DataFrame\n",
        "# autodock_results[\"predicted_binding_affinity\"] = predicted_binding_affinity"
      ],
      "metadata": {
        "id": "gdyqBs0yWXe9"
      },
      "execution_count": null,
      "outputs": []
    },
    {
      "cell_type": "code",
      "source": [
        "# # Print the updated DataFrame\n",
        "# print(autodock_results)\n",
        "# print(predicted_binding_affinity)"
      ],
      "metadata": {
        "colab": {
          "base_uri": "https://localhost:8080/"
        },
        "id": "Vby-VNdBWfO5",
        "outputId": "8b774b32-baf7-404f-cc5f-910a6e28fec1"
      },
      "execution_count": null,
      "outputs": [
        {
          "output_type": "stream",
          "name": "stdout",
          "text": [
            "   electrostatic (kcal/mol)  electrostatic_sd (kcal/mol)  \\\n",
            "0                         0                            0   \n",
            "\n",
            "   polar_solvation (kcal/mol)  polar_solvation_sd (kcal/mol)  \\\n",
            "0                     0.27894                        0.33314   \n",
            "\n",
            "   non_polar_solvation (kcal/mol)  non_polar_solvation_sd (kcal/mol)  \\\n",
            "0                         0.99094                             0.4344   \n",
            "\n",
            "   vdW (kcal/mol)  predicted_binding_affinity  \n",
            "0        -7.49766                   -6.249658  \n",
            "[-6.2496581]\n"
          ]
        }
      ]
    },
    {
      "cell_type": "code",
      "source": [
        "# # Create a new DataFrame with the predicted and actual binding affinity values for the training data\n",
        "# predicted_vs_actual_train = pd.DataFrame({'predicted_binding_affinity': pipeline.predict(X_train), 'binding_affinity': y_train})\n",
        "\n",
        "# # Use seaborn's pairplot function to create a scatterplot matrix\n",
        "# sns.pairplot(predicted_vs_actual_train)\n",
        "# plt.show()"
      ],
      "metadata": {
        "colab": {
          "base_uri": "https://localhost:8080/",
          "height": 513
        },
        "id": "4r7usYTxXSQv",
        "outputId": "26319cc8-a709-40dc-d65d-619ff6a40c93"
      },
      "execution_count": null,
      "outputs": [
        {
          "output_type": "display_data",
          "data": {
            "text/plain": [
              "<Figure size 500x500 with 6 Axes>"
            ],
            "image/png": "[encoded data removed]"
          },
          "metadata": {}
        }
      ]
    },
    {
      "cell_type": "code",
      "source": [
        "# threshold = -8.0\n",
        "# autodock_results['binders'] = autodock_results['predicted_binding_affinity'].apply(lambda x: x <= threshold)\n",
        "# print(\"Number of binders:\", autodock_results['binders'].sum())\n",
        "# print(\"Number of non-binders:\", len(autodock_results) - autodock_results['binders'].sum())"
      ],
      "metadata": {
        "colab": {
          "base_uri": "https://localhost:8080/"
        },
        "id": "9iACuldCXXoo",
        "outputId": "75e8b898-1455-4bdc-e13d-8c5d93554d84"
      },
      "execution_count": null,
      "outputs": [
        {
          "output_type": "stream",
          "name": "stdout",
          "text": [
            "Number of binders: 0\n",
            "Number of non-binders: 1\n"
          ]
        }
      ]
    },
    {
      "cell_type": "code",
      "source": [
        "# for index, row in autodock_results.iterrows():\n",
        "#     if row['predicted_binding_affinity'] <= threshold:\n",
        "#         print(f\"Complex {index} is a binder\")\n",
        "#     else:\n",
        "#         print(f\"Complex {index} is a non-binder\")"
      ],
      "metadata": {
        "colab": {
          "base_uri": "https://localhost:8080/"
        },
        "id": "Om2n5PI3XY9r",
        "outputId": "fd805f8d-8bd2-47e1-fffd-ccfbbc5d3f9d"
      },
      "execution_count": null,
      "outputs": [
        {
          "output_type": "stream",
          "name": "stdout",
          "text": [
            "Complex 0 is a non-binder\n"
          ]
        }
      ]
    }
  ]
}