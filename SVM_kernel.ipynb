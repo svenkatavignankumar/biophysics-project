{
  "nbformat": 4,
  "nbformat_minor": 0,
  "metadata": {
    "colab": {
      "provenance": []
    },
    "kernelspec": {
      "name": "python3",
      "display_name": "Python 3"
    },
    "language_info": {
      "name": "python"
    }
  },
  "cells": [
    {
      "cell_type": "code",
      "execution_count": 33,
      "metadata": {
        "colab": {
          "base_uri": "https://localhost:8080/"
        },
        "id": "wlssYOfDYC6m",
        "outputId": "ce466a49-0ed4-403a-a632-25950ea64090"
      },
      "outputs": [
        {
          "output_type": "stream",
          "name": "stdout",
          "text": [
            "Drive already mounted at /content/drive; to attempt to forcibly remount, call drive.mount(\"/content/drive\", force_remount=True).\n"
          ]
        }
      ],
      "source": [
        "from google.colab import drive\n",
        "drive.mount('/content/drive')"
      ]
    },
    {
      "cell_type": "code",
      "source": [
        "import numpy as np\n",
        "import pandas as pd \n",
        "import matplotlib.pyplot as plt \n",
        "import seaborn as sns"
      ],
      "metadata": {
        "id": "mVUcjcrgabM5"
      },
      "execution_count": 34,
      "outputs": []
    },
    {
      "cell_type": "code",
      "source": [
        "from sklearn.model_selection import train_test_split, GridSearchCV\n",
        "from sklearn.svm import SVR\n",
        "from sklearn.metrics import accuracy_score"
      ],
      "metadata": {
        "id": "GTZxsvzKafg7"
      },
      "execution_count": 35,
      "outputs": []
    },
    {
      "cell_type": "code",
      "source": [
        "# Load the dataset\n",
        "dataset = pd.read_csv('/content/drive/MyDrive/5000_final.csv')"
      ],
      "metadata": {
        "id": "AzOrW4f8alO7"
      },
      "execution_count": 36,
      "outputs": []
    },
    {
      "cell_type": "code",
      "source": [
        "dataset.head()"
      ],
      "metadata": {
        "colab": {
          "base_uri": "https://localhost:8080/",
          "height": 287
        },
        "id": "bFJc4KICa-ES",
        "outputId": "05d7ce90-6d62-4c43-8496-d44963b132c8"
      },
      "execution_count": 37,
      "outputs": [
        {
          "output_type": "execute_result",
          "data": {
            "text/plain": [
              "  pdbid  binding_affinity (kcal/mol)  binding_affinity_sd (kcal/mol)  \\\n",
              "0  6g3f                     -0.25570                         1.19548   \n",
              "1  5fpd                     -2.61456                         2.67150   \n",
              "2  6hxe                     -0.98558                         2.57244   \n",
              "3  5nqb                     -1.05920                         1.90178   \n",
              "4  4q3f                     -1.52816                         1.87006   \n",
              "\n",
              "   electrostatic (kcal/mol)  electrostatic_sd (kcal/mol)  \\\n",
              "0                  -0.98408                      1.12502   \n",
              "1                  -1.01432                      1.22772   \n",
              "2                  -8.41628                      3.52346   \n",
              "3                 -36.85828                     13.23790   \n",
              "4                  -5.36862                      3.20528   \n",
              "\n",
              "   polar_solvation (kcal/mol)  polar_solvation_sd (kcal/mol)  \\\n",
              "0                    -0.34568                        0.24300   \n",
              "1                    -0.56942                        0.40202   \n",
              "2                    -0.81082                        0.32616   \n",
              "3                    -0.46456                        0.24828   \n",
              "4                    -0.74246                        0.32006   \n",
              "\n",
              "   non_polar_solvation (kcal/mol)  non_polar_solvation_sd (kcal/mol)  \\\n",
              "0                         1.26248                            1.12080   \n",
              "1                         1.62432                            1.48674   \n",
              "2                         7.90220                            3.00116   \n",
              "3                        34.03790                           11.65862   \n",
              "4                         5.44818                            2.73016   \n",
              "\n",
              "   vdW (kcal/mol)  \n",
              "0        -0.18842  \n",
              "1        -2.65510  \n",
              "2         0.33930  \n",
              "3         2.22572  \n",
              "4        -0.86530  "
            ],
            "text/html": [
              "\n",
              "  <div id=\"df-1b7458cb-f144-4a30-8b3d-35f9b9e5f3c9\">\n",
              "    <div class=\"colab-df-container\">\n",
              "      <div>\n",
              "<style scoped>\n",
              "    .dataframe tbody tr th:only-of-type {\n",
              "        vertical-align: middle;\n",
              "    }\n",
              "\n",
              "    .dataframe tbody tr th {\n",
              "        vertical-align: top;\n",
              "    }\n",
              "\n",
              "    .dataframe thead th {\n",
              "        text-align: right;\n",
              "    }\n",
              "</style>\n",
              "<table border=\"1\" class=\"dataframe\">\n",
              "  <thead>\n",
              "    <tr style=\"text-align: right;\">\n",
              "      <th></th>\n",
              "      <th>pdbid</th>\n",
              "      <th>binding_affinity (kcal/mol)</th>\n",
              "      <th>binding_affinity_sd (kcal/mol)</th>\n",
              "      <th>electrostatic (kcal/mol)</th>\n",
              "      <th>electrostatic_sd (kcal/mol)</th>\n",
              "      <th>polar_solvation (kcal/mol)</th>\n",
              "      <th>polar_solvation_sd (kcal/mol)</th>\n",
              "      <th>non_polar_solvation (kcal/mol)</th>\n",
              "      <th>non_polar_solvation_sd (kcal/mol)</th>\n",
              "      <th>vdW (kcal/mol)</th>\n",
              "    </tr>\n",
              "  </thead>\n",
              "  <tbody>\n",
              "    <tr>\n",
              "      <th>0</th>\n",
              "      <td>6g3f</td>\n",
              "      <td>-0.25570</td>\n",
              "      <td>1.19548</td>\n",
              "      <td>-0.98408</td>\n",
              "      <td>1.12502</td>\n",
              "      <td>-0.34568</td>\n",
              "      <td>0.24300</td>\n",
              "      <td>1.26248</td>\n",
              "      <td>1.12080</td>\n",
              "      <td>-0.18842</td>\n",
              "    </tr>\n",
              "    <tr>\n",
              "      <th>1</th>\n",
              "      <td>5fpd</td>\n",
              "      <td>-2.61456</td>\n",
              "      <td>2.67150</td>\n",
              "      <td>-1.01432</td>\n",
              "      <td>1.22772</td>\n",
              "      <td>-0.56942</td>\n",
              "      <td>0.40202</td>\n",
              "      <td>1.62432</td>\n",
              "      <td>1.48674</td>\n",
              "      <td>-2.65510</td>\n",
              "    </tr>\n",
              "    <tr>\n",
              "      <th>2</th>\n",
              "      <td>6hxe</td>\n",
              "      <td>-0.98558</td>\n",
              "      <td>2.57244</td>\n",
              "      <td>-8.41628</td>\n",
              "      <td>3.52346</td>\n",
              "      <td>-0.81082</td>\n",
              "      <td>0.32616</td>\n",
              "      <td>7.90220</td>\n",
              "      <td>3.00116</td>\n",
              "      <td>0.33930</td>\n",
              "    </tr>\n",
              "    <tr>\n",
              "      <th>3</th>\n",
              "      <td>5nqb</td>\n",
              "      <td>-1.05920</td>\n",
              "      <td>1.90178</td>\n",
              "      <td>-36.85828</td>\n",
              "      <td>13.23790</td>\n",
              "      <td>-0.46456</td>\n",
              "      <td>0.24828</td>\n",
              "      <td>34.03790</td>\n",
              "      <td>11.65862</td>\n",
              "      <td>2.22572</td>\n",
              "    </tr>\n",
              "    <tr>\n",
              "      <th>4</th>\n",
              "      <td>4q3f</td>\n",
              "      <td>-1.52816</td>\n",
              "      <td>1.87006</td>\n",
              "      <td>-5.36862</td>\n",
              "      <td>3.20528</td>\n",
              "      <td>-0.74246</td>\n",
              "      <td>0.32006</td>\n",
              "      <td>5.44818</td>\n",
              "      <td>2.73016</td>\n",
              "      <td>-0.86530</td>\n",
              "    </tr>\n",
              "  </tbody>\n",
              "</table>\n",
              "</div>\n",
              "      <button class=\"colab-df-convert\" onclick=\"convertToInteractive('df-1b7458cb-f144-4a30-8b3d-35f9b9e5f3c9')\"\n",
              "              title=\"Convert this dataframe to an interactive table.\"\n",
              "              style=\"display:none;\">\n",
              "        \n",
              "  <svg xmlns=\"http://www.w3.org/2000/svg\" height=\"24px\"viewBox=\"0 0 24 24\"\n",
              "       width=\"24px\">\n",
              "    <path d=\"M0 0h24v24H0V0z\" fill=\"none\"/>\n",
              "    <path d=\"M18.56 5.44l.94 2.06.94-2.06 2.06-.94-2.06-.94-.94-2.06-.94 2.06-2.06.94zm-11 1L8.5 8.5l.94-2.06 2.06-.94-2.06-.94L8.5 2.5l-.94 2.06-2.06.94zm10 10l.94 2.06.94-2.06 2.06-.94-2.06-.94-.94-2.06-.94 2.06-2.06.94z\"/><path d=\"M17.41 7.96l-1.37-1.37c-.4-.4-.92-.59-1.43-.59-.52 0-1.04.2-1.43.59L10.3 9.45l-7.72 7.72c-.78.78-.78 2.05 0 2.83L4 21.41c.39.39.9.59 1.41.59.51 0 1.02-.2 1.41-.59l7.78-7.78 2.81-2.81c.8-.78.8-2.07 0-2.86zM5.41 20L4 18.59l7.72-7.72 1.47 1.35L5.41 20z\"/>\n",
              "  </svg>\n",
              "      </button>\n",
              "      \n",
              "  <style>\n",
              "    .colab-df-container {\n",
              "      display:flex;\n",
              "      flex-wrap:wrap;\n",
              "      gap: 12px;\n",
              "    }\n",
              "\n",
              "    .colab-df-convert {\n",
              "      background-color: #E8F0FE;\n",
              "      border: none;\n",
              "      border-radius: 50%;\n",
              "      cursor: pointer;\n",
              "      display: none;\n",
              "      fill: #1967D2;\n",
              "      height: 32px;\n",
              "      padding: 0 0 0 0;\n",
              "      width: 32px;\n",
              "    }\n",
              "\n",
              "    .colab-df-convert:hover {\n",
              "      background-color: #E2EBFA;\n",
              "      box-shadow: 0px 1px 2px rgba(60, 64, 67, 0.3), 0px 1px 3px 1px rgba(60, 64, 67, 0.15);\n",
              "      fill: #174EA6;\n",
              "    }\n",
              "\n",
              "    [theme=dark] .colab-df-convert {\n",
              "      background-color: #3B4455;\n",
              "      fill: #D2E3FC;\n",
              "    }\n",
              "\n",
              "    [theme=dark] .colab-df-convert:hover {\n",
              "      background-color: #434B5C;\n",
              "      box-shadow: 0px 1px 3px 1px rgba(0, 0, 0, 0.15);\n",
              "      filter: drop-shadow(0px 1px 2px rgba(0, 0, 0, 0.3));\n",
              "      fill: #FFFFFF;\n",
              "    }\n",
              "  </style>\n",
              "\n",
              "      <script>\n",
              "        const buttonEl =\n",
              "          document.querySelector('#df-1b7458cb-f144-4a30-8b3d-35f9b9e5f3c9 button.colab-df-convert');\n",
              "        buttonEl.style.display =\n",
              "          google.colab.kernel.accessAllowed ? 'block' : 'none';\n",
              "\n",
              "        async function convertToInteractive(key) {\n",
              "          const element = document.querySelector('#df-1b7458cb-f144-4a30-8b3d-35f9b9e5f3c9');\n",
              "          const dataTable =\n",
              "            await google.colab.kernel.invokeFunction('convertToInteractive',\n",
              "                                                     [key], {});\n",
              "          if (!dataTable) return;\n",
              "\n",
              "          const docLinkHtml = 'Like what you see? Visit the ' +\n",
              "            '<a target=\"_blank\" href=https://colab.research.google.com/notebooks/data_table.ipynb>data table notebook</a>'\n",
              "            + ' to learn more about interactive tables.';\n",
              "          element.innerHTML = '';\n",
              "          dataTable['output_type'] = 'display_data';\n",
              "          await google.colab.output.renderOutput(dataTable, element);\n",
              "          const docLink = document.createElement('div');\n",
              "          docLink.innerHTML = docLinkHtml;\n",
              "          element.appendChild(docLink);\n",
              "        }\n",
              "      </script>\n",
              "    </div>\n",
              "  </div>\n",
              "  "
            ]
          },
          "metadata": {},
          "execution_count": 37
        }
      ]
    },
    {
      "cell_type": "code",
      "source": [
        "# Extract features\n",
        "X = dataset.iloc[:,3:]"
      ],
      "metadata": {
        "id": "YkqKaGIIamVY"
      },
      "execution_count": 38,
      "outputs": []
    },
    {
      "cell_type": "code",
      "source": [
        "X"
      ],
      "metadata": {
        "colab": {
          "base_uri": "https://localhost:8080/",
          "height": 484
        },
        "id": "_eo8VC2JaoTj",
        "outputId": "d5ac3baf-eeaa-4600-ebd4-4805c8d1ad82"
      },
      "execution_count": 39,
      "outputs": [
        {
          "output_type": "execute_result",
          "data": {
            "text/plain": [
              "      electrostatic (kcal/mol)  electrostatic_sd (kcal/mol)  \\\n",
              "0                     -0.98408                      1.12502   \n",
              "1                     -1.01432                      1.22772   \n",
              "2                     -8.41628                      3.52346   \n",
              "3                    -36.85828                     13.23790   \n",
              "4                     -5.36862                      3.20528   \n",
              "...                        ...                          ...   \n",
              "4995                 -35.92384                      4.92902   \n",
              "4996                   0.00000                      0.00000   \n",
              "4997                   0.00000                      0.00000   \n",
              "4998                   0.00000                      0.00000   \n",
              "4999                   0.00000                      0.00000   \n",
              "\n",
              "      polar_solvation (kcal/mol)  polar_solvation_sd (kcal/mol)  \\\n",
              "0                       -0.34568                        0.24300   \n",
              "1                       -0.56942                        0.40202   \n",
              "2                       -0.81082                        0.32616   \n",
              "3                       -0.46456                        0.24828   \n",
              "4                       -0.74246                        0.32006   \n",
              "...                          ...                            ...   \n",
              "4995                    -3.85320                        0.13716   \n",
              "4996                    -0.38658                        0.22966   \n",
              "4997                    -1.08590                        0.07472   \n",
              "4998                    -0.87744                        0.13688   \n",
              "4999                    -1.26558                        0.12676   \n",
              "\n",
              "      non_polar_solvation (kcal/mol)  non_polar_solvation_sd (kcal/mol)  \\\n",
              "0                            1.26248                            1.12080   \n",
              "1                            1.62432                            1.48674   \n",
              "2                            7.90220                            3.00116   \n",
              "3                           34.03790                           11.65862   \n",
              "4                            5.44818                            2.73016   \n",
              "...                              ...                                ...   \n",
              "4995                        38.94632                            4.06886   \n",
              "4996                         4.42818                            0.58870   \n",
              "4997                         4.35336                            1.11104   \n",
              "4998                         5.48154                            0.70498   \n",
              "4999                         4.43528                            0.75568   \n",
              "\n",
              "      vdW (kcal/mol)  \n",
              "0           -0.18842  \n",
              "1           -2.65510  \n",
              "2            0.33930  \n",
              "3            2.22572  \n",
              "4           -0.86530  \n",
              "...              ...  \n",
              "4995       -36.19790  \n",
              "4996       -43.56024  \n",
              "4997       -33.58286  \n",
              "4998       -60.30856  \n",
              "4999       -54.75186  \n",
              "\n",
              "[5000 rows x 7 columns]"
            ],
            "text/html": [
              "\n",
              "  <div id=\"df-2c1aa113-006d-45d6-8704-a2ee337058be\">\n",
              "    <div class=\"colab-df-container\">\n",
              "      <div>\n",
              "<style scoped>\n",
              "    .dataframe tbody tr th:only-of-type {\n",
              "        vertical-align: middle;\n",
              "    }\n",
              "\n",
              "    .dataframe tbody tr th {\n",
              "        vertical-align: top;\n",
              "    }\n",
              "\n",
              "    .dataframe thead th {\n",
              "        text-align: right;\n",
              "    }\n",
              "</style>\n",
              "<table border=\"1\" class=\"dataframe\">\n",
              "  <thead>\n",
              "    <tr style=\"text-align: right;\">\n",
              "      <th></th>\n",
              "      <th>electrostatic (kcal/mol)</th>\n",
              "      <th>electrostatic_sd (kcal/mol)</th>\n",
              "      <th>polar_solvation (kcal/mol)</th>\n",
              "      <th>polar_solvation_sd (kcal/mol)</th>\n",
              "      <th>non_polar_solvation (kcal/mol)</th>\n",
              "      <th>non_polar_solvation_sd (kcal/mol)</th>\n",
              "      <th>vdW (kcal/mol)</th>\n",
              "    </tr>\n",
              "  </thead>\n",
              "  <tbody>\n",
              "    <tr>\n",
              "      <th>0</th>\n",
              "      <td>-0.98408</td>\n",
              "      <td>1.12502</td>\n",
              "      <td>-0.34568</td>\n",
              "      <td>0.24300</td>\n",
              "      <td>1.26248</td>\n",
              "      <td>1.12080</td>\n",
              "      <td>-0.18842</td>\n",
              "    </tr>\n",
              "    <tr>\n",
              "      <th>1</th>\n",
              "      <td>-1.01432</td>\n",
              "      <td>1.22772</td>\n",
              "      <td>-0.56942</td>\n",
              "      <td>0.40202</td>\n",
              "      <td>1.62432</td>\n",
              "      <td>1.48674</td>\n",
              "      <td>-2.65510</td>\n",
              "    </tr>\n",
              "    <tr>\n",
              "      <th>2</th>\n",
              "      <td>-8.41628</td>\n",
              "      <td>3.52346</td>\n",
              "      <td>-0.81082</td>\n",
              "      <td>0.32616</td>\n",
              "      <td>7.90220</td>\n",
              "      <td>3.00116</td>\n",
              "      <td>0.33930</td>\n",
              "    </tr>\n",
              "    <tr>\n",
              "      <th>3</th>\n",
              "      <td>-36.85828</td>\n",
              "      <td>13.23790</td>\n",
              "      <td>-0.46456</td>\n",
              "      <td>0.24828</td>\n",
              "      <td>34.03790</td>\n",
              "      <td>11.65862</td>\n",
              "      <td>2.22572</td>\n",
              "    </tr>\n",
              "    <tr>\n",
              "      <th>4</th>\n",
              "      <td>-5.36862</td>\n",
              "      <td>3.20528</td>\n",
              "      <td>-0.74246</td>\n",
              "      <td>0.32006</td>\n",
              "      <td>5.44818</td>\n",
              "      <td>2.73016</td>\n",
              "      <td>-0.86530</td>\n",
              "    </tr>\n",
              "    <tr>\n",
              "      <th>...</th>\n",
              "      <td>...</td>\n",
              "      <td>...</td>\n",
              "      <td>...</td>\n",
              "      <td>...</td>\n",
              "      <td>...</td>\n",
              "      <td>...</td>\n",
              "      <td>...</td>\n",
              "    </tr>\n",
              "    <tr>\n",
              "      <th>4995</th>\n",
              "      <td>-35.92384</td>\n",
              "      <td>4.92902</td>\n",
              "      <td>-3.85320</td>\n",
              "      <td>0.13716</td>\n",
              "      <td>38.94632</td>\n",
              "      <td>4.06886</td>\n",
              "      <td>-36.19790</td>\n",
              "    </tr>\n",
              "    <tr>\n",
              "      <th>4996</th>\n",
              "      <td>0.00000</td>\n",
              "      <td>0.00000</td>\n",
              "      <td>-0.38658</td>\n",
              "      <td>0.22966</td>\n",
              "      <td>4.42818</td>\n",
              "      <td>0.58870</td>\n",
              "      <td>-43.56024</td>\n",
              "    </tr>\n",
              "    <tr>\n",
              "      <th>4997</th>\n",
              "      <td>0.00000</td>\n",
              "      <td>0.00000</td>\n",
              "      <td>-1.08590</td>\n",
              "      <td>0.07472</td>\n",
              "      <td>4.35336</td>\n",
              "      <td>1.11104</td>\n",
              "      <td>-33.58286</td>\n",
              "    </tr>\n",
              "    <tr>\n",
              "      <th>4998</th>\n",
              "      <td>0.00000</td>\n",
              "      <td>0.00000</td>\n",
              "      <td>-0.87744</td>\n",
              "      <td>0.13688</td>\n",
              "      <td>5.48154</td>\n",
              "      <td>0.70498</td>\n",
              "      <td>-60.30856</td>\n",
              "    </tr>\n",
              "    <tr>\n",
              "      <th>4999</th>\n",
              "      <td>0.00000</td>\n",
              "      <td>0.00000</td>\n",
              "      <td>-1.26558</td>\n",
              "      <td>0.12676</td>\n",
              "      <td>4.43528</td>\n",
              "      <td>0.75568</td>\n",
              "      <td>-54.75186</td>\n",
              "    </tr>\n",
              "  </tbody>\n",
              "</table>\n",
              "<p>5000 rows × 7 columns</p>\n",
              "</div>\n",
              "      <button class=\"colab-df-convert\" onclick=\"convertToInteractive('df-2c1aa113-006d-45d6-8704-a2ee337058be')\"\n",
              "              title=\"Convert this dataframe to an interactive table.\"\n",
              "              style=\"display:none;\">\n",
              "        \n",
              "  <svg xmlns=\"http://www.w3.org/2000/svg\" height=\"24px\"viewBox=\"0 0 24 24\"\n",
              "       width=\"24px\">\n",
              "    <path d=\"M0 0h24v24H0V0z\" fill=\"none\"/>\n",
              "    <path d=\"M18.56 5.44l.94 2.06.94-2.06 2.06-.94-2.06-.94-.94-2.06-.94 2.06-2.06.94zm-11 1L8.5 8.5l.94-2.06 2.06-.94-2.06-.94L8.5 2.5l-.94 2.06-2.06.94zm10 10l.94 2.06.94-2.06 2.06-.94-2.06-.94-.94-2.06-.94 2.06-2.06.94z\"/><path d=\"M17.41 7.96l-1.37-1.37c-.4-.4-.92-.59-1.43-.59-.52 0-1.04.2-1.43.59L10.3 9.45l-7.72 7.72c-.78.78-.78 2.05 0 2.83L4 21.41c.39.39.9.59 1.41.59.51 0 1.02-.2 1.41-.59l7.78-7.78 2.81-2.81c.8-.78.8-2.07 0-2.86zM5.41 20L4 18.59l7.72-7.72 1.47 1.35L5.41 20z\"/>\n",
              "  </svg>\n",
              "      </button>\n",
              "      \n",
              "  <style>\n",
              "    .colab-df-container {\n",
              "      display:flex;\n",
              "      flex-wrap:wrap;\n",
              "      gap: 12px;\n",
              "    }\n",
              "\n",
              "    .colab-df-convert {\n",
              "      background-color: #E8F0FE;\n",
              "      border: none;\n",
              "      border-radius: 50%;\n",
              "      cursor: pointer;\n",
              "      display: none;\n",
              "      fill: #1967D2;\n",
              "      height: 32px;\n",
              "      padding: 0 0 0 0;\n",
              "      width: 32px;\n",
              "    }\n",
              "\n",
              "    .colab-df-convert:hover {\n",
              "      background-color: #E2EBFA;\n",
              "      box-shadow: 0px 1px 2px rgba(60, 64, 67, 0.3), 0px 1px 3px 1px rgba(60, 64, 67, 0.15);\n",
              "      fill: #174EA6;\n",
              "    }\n",
              "\n",
              "    [theme=dark] .colab-df-convert {\n",
              "      background-color: #3B4455;\n",
              "      fill: #D2E3FC;\n",
              "    }\n",
              "\n",
              "    [theme=dark] .colab-df-convert:hover {\n",
              "      background-color: #434B5C;\n",
              "      box-shadow: 0px 1px 3px 1px rgba(0, 0, 0, 0.15);\n",
              "      filter: drop-shadow(0px 1px 2px rgba(0, 0, 0, 0.3));\n",
              "      fill: #FFFFFF;\n",
              "    }\n",
              "  </style>\n",
              "\n",
              "      <script>\n",
              "        const buttonEl =\n",
              "          document.querySelector('#df-2c1aa113-006d-45d6-8704-a2ee337058be button.colab-df-convert');\n",
              "        buttonEl.style.display =\n",
              "          google.colab.kernel.accessAllowed ? 'block' : 'none';\n",
              "\n",
              "        async function convertToInteractive(key) {\n",
              "          const element = document.querySelector('#df-2c1aa113-006d-45d6-8704-a2ee337058be');\n",
              "          const dataTable =\n",
              "            await google.colab.kernel.invokeFunction('convertToInteractive',\n",
              "                                                     [key], {});\n",
              "          if (!dataTable) return;\n",
              "\n",
              "          const docLinkHtml = 'Like what you see? Visit the ' +\n",
              "            '<a target=\"_blank\" href=https://colab.research.google.com/notebooks/data_table.ipynb>data table notebook</a>'\n",
              "            + ' to learn more about interactive tables.';\n",
              "          element.innerHTML = '';\n",
              "          dataTable['output_type'] = 'display_data';\n",
              "          await google.colab.output.renderOutput(dataTable, element);\n",
              "          const docLink = document.createElement('div');\n",
              "          docLink.innerHTML = docLinkHtml;\n",
              "          element.appendChild(docLink);\n",
              "        }\n",
              "      </script>\n",
              "    </div>\n",
              "  </div>\n",
              "  "
            ]
          },
          "metadata": {},
          "execution_count": 39
        }
      ]
    },
    {
      "cell_type": "code",
      "source": [
        "# Extract labels\n",
        "y = dataset.iloc[:,1]"
      ],
      "metadata": {
        "id": "_Ft-lqNSapNW"
      },
      "execution_count": 40,
      "outputs": []
    },
    {
      "cell_type": "code",
      "source": [
        "y"
      ],
      "metadata": {
        "colab": {
          "base_uri": "https://localhost:8080/"
        },
        "id": "bkfU1ZVzarq9",
        "outputId": "585808eb-1463-470b-c06a-7fe4778ece83"
      },
      "execution_count": 41,
      "outputs": [
        {
          "output_type": "execute_result",
          "data": {
            "text/plain": [
              "0       -0.25570\n",
              "1       -2.61456\n",
              "2       -0.98558\n",
              "3       -1.05920\n",
              "4       -1.52816\n",
              "          ...   \n",
              "4995   -37.02860\n",
              "4996   -39.51860\n",
              "4997   -30.31542\n",
              "4998   -55.70448\n",
              "4999   -51.58218\n",
              "Name: binding_affinity (kcal/mol), Length: 5000, dtype: float64"
            ]
          },
          "metadata": {},
          "execution_count": 41
        }
      ]
    },
    {
      "cell_type": "code",
      "source": [
        "# Split the dataset into training and testing sets\n",
        "X_train,X_test,y_train,y_test = train_test_split(X,y,test_size = 0.2,random_state = 42)"
      ],
      "metadata": {
        "id": "3YajRq1LavbP"
      },
      "execution_count": 42,
      "outputs": []
    },
    {
      "cell_type": "code",
      "source": [
        "# Train the SVM model with RBF kernel\n",
        "model_rbf = SVR(kernel='rbf')\n",
        "param_grid_rbf = {'C': [0.1, 1, 10], 'gamma': [0.1, 0.01, 0.001]}\n",
        "grid_rbf = GridSearchCV(model_rbf, param_grid_rbf, cv=5)\n",
        "grid_rbf.fit(X_train, y_train)\n",
        "best_params_rbf = grid_rbf.best_params_\n",
        "model_rbf_best = SVR(kernel='rbf', C=best_params_rbf['C'], gamma=best_params_rbf['gamma'])\n",
        "model_rbf_best.fit(X_train, y_train)"
      ],
      "metadata": {
        "colab": {
          "base_uri": "https://localhost:8080/",
          "height": 74
        },
        "id": "8DfoOHwtYwI8",
        "outputId": "4e93f78a-39a4-4429-f5ba-32b76aa28e0e"
      },
      "execution_count": 43,
      "outputs": [
        {
          "output_type": "execute_result",
          "data": {
            "text/plain": [
              "SVR(C=10, gamma=0.001)"
            ],
            "text/html": [
              "<style>#sk-container-id-4 {color: black;background-color: white;}#sk-container-id-4 pre{padding: 0;}#sk-container-id-4 div.sk-toggleable {background-color: white;}#sk-container-id-4 label.sk-toggleable__label {cursor: pointer;display: block;width: 100%;margin-bottom: 0;padding: 0.3em;box-sizing: border-box;text-align: center;}#sk-container-id-4 label.sk-toggleable__label-arrow:before {content: \"▸\";float: left;margin-right: 0.25em;color: #696969;}#sk-container-id-4 label.sk-toggleable__label-arrow:hover:before {color: black;}#sk-container-id-4 div.sk-estimator:hover label.sk-toggleable__label-arrow:before {color: black;}#sk-container-id-4 div.sk-toggleable__content {max-height: 0;max-width: 0;overflow: hidden;text-align: left;background-color: #f0f8ff;}#sk-container-id-4 div.sk-toggleable__content pre {margin: 0.2em;color: black;border-radius: 0.25em;background-color: #f0f8ff;}#sk-container-id-4 input.sk-toggleable__control:checked~div.sk-toggleable__content {max-height: 200px;max-width: 100%;overflow: auto;}#sk-container-id-4 input.sk-toggleable__control:checked~label.sk-toggleable__label-arrow:before {content: \"▾\";}#sk-container-id-4 div.sk-estimator input.sk-toggleable__control:checked~label.sk-toggleable__label {background-color: #d4ebff;}#sk-container-id-4 div.sk-label input.sk-toggleable__control:checked~label.sk-toggleable__label {background-color: #d4ebff;}#sk-container-id-4 input.sk-hidden--visually {border: 0;clip: rect(1px 1px 1px 1px);clip: rect(1px, 1px, 1px, 1px);height: 1px;margin: -1px;overflow: hidden;padding: 0;position: absolute;width: 1px;}#sk-container-id-4 div.sk-estimator {font-family: monospace;background-color: #f0f8ff;border: 1px dotted black;border-radius: 0.25em;box-sizing: border-box;margin-bottom: 0.5em;}#sk-container-id-4 div.sk-estimator:hover {background-color: #d4ebff;}#sk-container-id-4 div.sk-parallel-item::after {content: \"\";width: 100%;border-bottom: 1px solid gray;flex-grow: 1;}#sk-container-id-4 div.sk-label:hover label.sk-toggleable__label {background-color: #d4ebff;}#sk-container-id-4 div.sk-serial::before {content: \"\";position: absolute;border-left: 1px solid gray;box-sizing: border-box;top: 0;bottom: 0;left: 50%;z-index: 0;}#sk-container-id-4 div.sk-serial {display: flex;flex-direction: column;align-items: center;background-color: white;padding-right: 0.2em;padding-left: 0.2em;position: relative;}#sk-container-id-4 div.sk-item {position: relative;z-index: 1;}#sk-container-id-4 div.sk-parallel {display: flex;align-items: stretch;justify-content: center;background-color: white;position: relative;}#sk-container-id-4 div.sk-item::before, #sk-container-id-4 div.sk-parallel-item::before {content: \"\";position: absolute;border-left: 1px solid gray;box-sizing: border-box;top: 0;bottom: 0;left: 50%;z-index: -1;}#sk-container-id-4 div.sk-parallel-item {display: flex;flex-direction: column;z-index: 1;position: relative;background-color: white;}#sk-container-id-4 div.sk-parallel-item:first-child::after {align-self: flex-end;width: 50%;}#sk-container-id-4 div.sk-parallel-item:last-child::after {align-self: flex-start;width: 50%;}#sk-container-id-4 div.sk-parallel-item:only-child::after {width: 0;}#sk-container-id-4 div.sk-dashed-wrapped {border: 1px dashed gray;margin: 0 0.4em 0.5em 0.4em;box-sizing: border-box;padding-bottom: 0.4em;background-color: white;}#sk-container-id-4 div.sk-label label {font-family: monospace;font-weight: bold;display: inline-block;line-height: 1.2em;}#sk-container-id-4 div.sk-label-container {text-align: center;}#sk-container-id-4 div.sk-container {/* jupyter's `normalize.less` sets `[hidden] { display: none; }` but bootstrap.min.css set `[hidden] { display: none !important; }` so we also need the `!important` here to be able to override the default hidden behavior on the sphinx rendered scikit-learn.org. See: https://github.com/scikit-learn/scikit-learn/issues/21755 */display: inline-block !important;position: relative;}#sk-container-id-4 div.sk-text-repr-fallback {display: none;}</style><div id=\"sk-container-id-4\" class=\"sk-top-container\"><div class=\"sk-text-repr-fallback\"><pre>SVR(C=10, gamma=0.001)</pre><b>In a Jupyter environment, please rerun this cell to show the HTML representation or trust the notebook. <br />On GitHub, the HTML representation is unable to render, please try loading this page with nbviewer.org.</b></div><div class=\"sk-container\" hidden><div class=\"sk-item\"><div class=\"sk-estimator sk-toggleable\"><input class=\"sk-toggleable__control sk-hidden--visually\" id=\"sk-estimator-id-4\" type=\"checkbox\" checked><label for=\"sk-estimator-id-4\" class=\"sk-toggleable__label sk-toggleable__label-arrow\">SVR</label><div class=\"sk-toggleable__content\"><pre>SVR(C=10, gamma=0.001)</pre></div></div></div></div></div>"
            ]
          },
          "metadata": {},
          "execution_count": 43
        }
      ]
    },
    {
      "cell_type": "code",
      "source": [
        "# Evaluate the RBF model on the test set\n",
        "score_rbf = model_rbf_best.score(X_test, y_test)\n",
        "print(\"RBF model accuracy score:\", score_rbf)"
      ],
      "metadata": {
        "colab": {
          "base_uri": "https://localhost:8080/"
        },
        "id": "j7f6NJY_Yz9g",
        "outputId": "b971cd21-eeb6-47f7-c740-7d15879fb9a8"
      },
      "execution_count": 44,
      "outputs": [
        {
          "output_type": "stream",
          "name": "stdout",
          "text": [
            "RBF model accuracy score: 0.9966796389789327\n"
          ]
        }
      ]
    },
    {
      "cell_type": "code",
      "source": [
        "# Train the SVM model with polynomial kernel\n",
        "model_poly = SVR(kernel='poly')\n",
        "param_grid_poly = {'C': [0.1, 1, 10], 'degree': [2, 3, 4]}\n",
        "grid_poly = GridSearchCV(model_poly, param_grid_poly, cv=5)\n",
        "grid_poly.fit(X_train, y_train)\n",
        "best_params_poly = grid_poly.best_params_\n",
        "model_poly_best = SVR(kernel='poly', C=best_params_poly['C'], degree=best_params_poly['degree'])\n",
        "model_poly_best.fit(X_train, y_train)"
      ],
      "metadata": {
        "colab": {
          "base_uri": "https://localhost:8080/",
          "height": 74
        },
        "id": "I1HYYbC_Y0o1",
        "outputId": "d725cce1-be7a-4b11-8da5-385d3cd62688"
      },
      "execution_count": 45,
      "outputs": [
        {
          "output_type": "execute_result",
          "data": {
            "text/plain": [
              "SVR(C=10, degree=2, kernel='poly')"
            ],
            "text/html": [
              "<style>#sk-container-id-5 {color: black;background-color: white;}#sk-container-id-5 pre{padding: 0;}#sk-container-id-5 div.sk-toggleable {background-color: white;}#sk-container-id-5 label.sk-toggleable__label {cursor: pointer;display: block;width: 100%;margin-bottom: 0;padding: 0.3em;box-sizing: border-box;text-align: center;}#sk-container-id-5 label.sk-toggleable__label-arrow:before {content: \"▸\";float: left;margin-right: 0.25em;color: #696969;}#sk-container-id-5 label.sk-toggleable__label-arrow:hover:before {color: black;}#sk-container-id-5 div.sk-estimator:hover label.sk-toggleable__label-arrow:before {color: black;}#sk-container-id-5 div.sk-toggleable__content {max-height: 0;max-width: 0;overflow: hidden;text-align: left;background-color: #f0f8ff;}#sk-container-id-5 div.sk-toggleable__content pre {margin: 0.2em;color: black;border-radius: 0.25em;background-color: #f0f8ff;}#sk-container-id-5 input.sk-toggleable__control:checked~div.sk-toggleable__content {max-height: 200px;max-width: 100%;overflow: auto;}#sk-container-id-5 input.sk-toggleable__control:checked~label.sk-toggleable__label-arrow:before {content: \"▾\";}#sk-container-id-5 div.sk-estimator input.sk-toggleable__control:checked~label.sk-toggleable__label {background-color: #d4ebff;}#sk-container-id-5 div.sk-label input.sk-toggleable__control:checked~label.sk-toggleable__label {background-color: #d4ebff;}#sk-container-id-5 input.sk-hidden--visually {border: 0;clip: rect(1px 1px 1px 1px);clip: rect(1px, 1px, 1px, 1px);height: 1px;margin: -1px;overflow: hidden;padding: 0;position: absolute;width: 1px;}#sk-container-id-5 div.sk-estimator {font-family: monospace;background-color: #f0f8ff;border: 1px dotted black;border-radius: 0.25em;box-sizing: border-box;margin-bottom: 0.5em;}#sk-container-id-5 div.sk-estimator:hover {background-color: #d4ebff;}#sk-container-id-5 div.sk-parallel-item::after {content: \"\";width: 100%;border-bottom: 1px solid gray;flex-grow: 1;}#sk-container-id-5 div.sk-label:hover label.sk-toggleable__label {background-color: #d4ebff;}#sk-container-id-5 div.sk-serial::before {content: \"\";position: absolute;border-left: 1px solid gray;box-sizing: border-box;top: 0;bottom: 0;left: 50%;z-index: 0;}#sk-container-id-5 div.sk-serial {display: flex;flex-direction: column;align-items: center;background-color: white;padding-right: 0.2em;padding-left: 0.2em;position: relative;}#sk-container-id-5 div.sk-item {position: relative;z-index: 1;}#sk-container-id-5 div.sk-parallel {display: flex;align-items: stretch;justify-content: center;background-color: white;position: relative;}#sk-container-id-5 div.sk-item::before, #sk-container-id-5 div.sk-parallel-item::before {content: \"\";position: absolute;border-left: 1px solid gray;box-sizing: border-box;top: 0;bottom: 0;left: 50%;z-index: -1;}#sk-container-id-5 div.sk-parallel-item {display: flex;flex-direction: column;z-index: 1;position: relative;background-color: white;}#sk-container-id-5 div.sk-parallel-item:first-child::after {align-self: flex-end;width: 50%;}#sk-container-id-5 div.sk-parallel-item:last-child::after {align-self: flex-start;width: 50%;}#sk-container-id-5 div.sk-parallel-item:only-child::after {width: 0;}#sk-container-id-5 div.sk-dashed-wrapped {border: 1px dashed gray;margin: 0 0.4em 0.5em 0.4em;box-sizing: border-box;padding-bottom: 0.4em;background-color: white;}#sk-container-id-5 div.sk-label label {font-family: monospace;font-weight: bold;display: inline-block;line-height: 1.2em;}#sk-container-id-5 div.sk-label-container {text-align: center;}#sk-container-id-5 div.sk-container {/* jupyter's `normalize.less` sets `[hidden] { display: none; }` but bootstrap.min.css set `[hidden] { display: none !important; }` so we also need the `!important` here to be able to override the default hidden behavior on the sphinx rendered scikit-learn.org. See: https://github.com/scikit-learn/scikit-learn/issues/21755 */display: inline-block !important;position: relative;}#sk-container-id-5 div.sk-text-repr-fallback {display: none;}</style><div id=\"sk-container-id-5\" class=\"sk-top-container\"><div class=\"sk-text-repr-fallback\"><pre>SVR(C=10, degree=2, kernel=&#x27;poly&#x27;)</pre><b>In a Jupyter environment, please rerun this cell to show the HTML representation or trust the notebook. <br />On GitHub, the HTML representation is unable to render, please try loading this page with nbviewer.org.</b></div><div class=\"sk-container\" hidden><div class=\"sk-item\"><div class=\"sk-estimator sk-toggleable\"><input class=\"sk-toggleable__control sk-hidden--visually\" id=\"sk-estimator-id-5\" type=\"checkbox\" checked><label for=\"sk-estimator-id-5\" class=\"sk-toggleable__label sk-toggleable__label-arrow\">SVR</label><div class=\"sk-toggleable__content\"><pre>SVR(C=10, degree=2, kernel=&#x27;poly&#x27;)</pre></div></div></div></div></div>"
            ]
          },
          "metadata": {},
          "execution_count": 45
        }
      ]
    },
    {
      "cell_type": "code",
      "source": [
        "# Evaluate the polynomial model on the test set\n",
        "score_poly = model_poly_best.score(X_test, y_test)\n",
        "print(\"Polynomial model accuracy score:\", score_poly)"
      ],
      "metadata": {
        "colab": {
          "base_uri": "https://localhost:8080/"
        },
        "id": "ovMgMmg5Y3iI",
        "outputId": "96c3a0f2-421c-467a-e6f1-005503ef973e"
      },
      "execution_count": 46,
      "outputs": [
        {
          "output_type": "stream",
          "name": "stdout",
          "text": [
            "Polynomial model accuracy score: 0.9160014985712124\n"
          ]
        }
      ]
    },
    {
      "cell_type": "code",
      "source": [
        "# Train the SVM model\n",
        "model = SVR(kernel='linear')\n",
        "model.fit(X_train, y_train)"
      ],
      "metadata": {
        "colab": {
          "base_uri": "https://localhost:8080/",
          "height": 74
        },
        "id": "Yg1TFmS3eOms",
        "outputId": "61f43730-f918-411e-c8db-8a0509f7e868"
      },
      "execution_count": 47,
      "outputs": [
        {
          "output_type": "execute_result",
          "data": {
            "text/plain": [
              "SVR(kernel='linear')"
            ],
            "text/html": [
              "<style>#sk-container-id-6 {color: black;background-color: white;}#sk-container-id-6 pre{padding: 0;}#sk-container-id-6 div.sk-toggleable {background-color: white;}#sk-container-id-6 label.sk-toggleable__label {cursor: pointer;display: block;width: 100%;margin-bottom: 0;padding: 0.3em;box-sizing: border-box;text-align: center;}#sk-container-id-6 label.sk-toggleable__label-arrow:before {content: \"▸\";float: left;margin-right: 0.25em;color: #696969;}#sk-container-id-6 label.sk-toggleable__label-arrow:hover:before {color: black;}#sk-container-id-6 div.sk-estimator:hover label.sk-toggleable__label-arrow:before {color: black;}#sk-container-id-6 div.sk-toggleable__content {max-height: 0;max-width: 0;overflow: hidden;text-align: left;background-color: #f0f8ff;}#sk-container-id-6 div.sk-toggleable__content pre {margin: 0.2em;color: black;border-radius: 0.25em;background-color: #f0f8ff;}#sk-container-id-6 input.sk-toggleable__control:checked~div.sk-toggleable__content {max-height: 200px;max-width: 100%;overflow: auto;}#sk-container-id-6 input.sk-toggleable__control:checked~label.sk-toggleable__label-arrow:before {content: \"▾\";}#sk-container-id-6 div.sk-estimator input.sk-toggleable__control:checked~label.sk-toggleable__label {background-color: #d4ebff;}#sk-container-id-6 div.sk-label input.sk-toggleable__control:checked~label.sk-toggleable__label {background-color: #d4ebff;}#sk-container-id-6 input.sk-hidden--visually {border: 0;clip: rect(1px 1px 1px 1px);clip: rect(1px, 1px, 1px, 1px);height: 1px;margin: -1px;overflow: hidden;padding: 0;position: absolute;width: 1px;}#sk-container-id-6 div.sk-estimator {font-family: monospace;background-color: #f0f8ff;border: 1px dotted black;border-radius: 0.25em;box-sizing: border-box;margin-bottom: 0.5em;}#sk-container-id-6 div.sk-estimator:hover {background-color: #d4ebff;}#sk-container-id-6 div.sk-parallel-item::after {content: \"\";width: 100%;border-bottom: 1px solid gray;flex-grow: 1;}#sk-container-id-6 div.sk-label:hover label.sk-toggleable__label {background-color: #d4ebff;}#sk-container-id-6 div.sk-serial::before {content: \"\";position: absolute;border-left: 1px solid gray;box-sizing: border-box;top: 0;bottom: 0;left: 50%;z-index: 0;}#sk-container-id-6 div.sk-serial {display: flex;flex-direction: column;align-items: center;background-color: white;padding-right: 0.2em;padding-left: 0.2em;position: relative;}#sk-container-id-6 div.sk-item {position: relative;z-index: 1;}#sk-container-id-6 div.sk-parallel {display: flex;align-items: stretch;justify-content: center;background-color: white;position: relative;}#sk-container-id-6 div.sk-item::before, #sk-container-id-6 div.sk-parallel-item::before {content: \"\";position: absolute;border-left: 1px solid gray;box-sizing: border-box;top: 0;bottom: 0;left: 50%;z-index: -1;}#sk-container-id-6 div.sk-parallel-item {display: flex;flex-direction: column;z-index: 1;position: relative;background-color: white;}#sk-container-id-6 div.sk-parallel-item:first-child::after {align-self: flex-end;width: 50%;}#sk-container-id-6 div.sk-parallel-item:last-child::after {align-self: flex-start;width: 50%;}#sk-container-id-6 div.sk-parallel-item:only-child::after {width: 0;}#sk-container-id-6 div.sk-dashed-wrapped {border: 1px dashed gray;margin: 0 0.4em 0.5em 0.4em;box-sizing: border-box;padding-bottom: 0.4em;background-color: white;}#sk-container-id-6 div.sk-label label {font-family: monospace;font-weight: bold;display: inline-block;line-height: 1.2em;}#sk-container-id-6 div.sk-label-container {text-align: center;}#sk-container-id-6 div.sk-container {/* jupyter's `normalize.less` sets `[hidden] { display: none; }` but bootstrap.min.css set `[hidden] { display: none !important; }` so we also need the `!important` here to be able to override the default hidden behavior on the sphinx rendered scikit-learn.org. See: https://github.com/scikit-learn/scikit-learn/issues/21755 */display: inline-block !important;position: relative;}#sk-container-id-6 div.sk-text-repr-fallback {display: none;}</style><div id=\"sk-container-id-6\" class=\"sk-top-container\"><div class=\"sk-text-repr-fallback\"><pre>SVR(kernel=&#x27;linear&#x27;)</pre><b>In a Jupyter environment, please rerun this cell to show the HTML representation or trust the notebook. <br />On GitHub, the HTML representation is unable to render, please try loading this page with nbviewer.org.</b></div><div class=\"sk-container\" hidden><div class=\"sk-item\"><div class=\"sk-estimator sk-toggleable\"><input class=\"sk-toggleable__control sk-hidden--visually\" id=\"sk-estimator-id-6\" type=\"checkbox\" checked><label for=\"sk-estimator-id-6\" class=\"sk-toggleable__label sk-toggleable__label-arrow\">SVR</label><div class=\"sk-toggleable__content\"><pre>SVR(kernel=&#x27;linear&#x27;)</pre></div></div></div></div></div>"
            ]
          },
          "metadata": {},
          "execution_count": 47
        }
      ]
    },
    {
      "cell_type": "code",
      "source": [
        "# Evaluate the model on the test set\n",
        "score = model.score(X_test, y_test)\n",
        "print(\"Accuracy score:\", score)"
      ],
      "metadata": {
        "colab": {
          "base_uri": "https://localhost:8080/"
        },
        "id": "G2EvLgmoePfR",
        "outputId": "545f171f-45b6-475e-f383-fea10b517a9a"
      },
      "execution_count": 48,
      "outputs": [
        {
          "output_type": "stream",
          "name": "stdout",
          "text": [
            "Accuracy score: 0.9999196830384735\n"
          ]
        }
      ]
    },
    {
      "cell_type": "code",
      "source": [
        "# # Load the Autodock results\n",
        "# autodock_results = pd.read_csv('/content/drive/MyDrive/autodock_results.csv')\n",
        "\n",
        "# # Extract the relevant energy columns\n",
        "# energy_columns = [\"electrostatic (kcal/mol)\", \"electrostatic_sd (kcal/mol)\", \"polar_solvation (kcal/mol)\", \"polar_solvation_sd (kcal/mol)\", \"non_polar_solvation (kcal/mol)\", \"non_polar_solvation_sd (kcal/mol)\", \"vdW (kcal/mol)\"]\n",
        "# new_data = autodock_results[energy_columns]\n",
        "\n",
        "# # Use the trained model to predict the binding affinity values for the new data\n",
        "# predicted_binding_affinity = model.predict(new_data)\n",
        "\n",
        "# # Add the predicted binding affinity values to the Autodock results DataFrame\n",
        "# autodock_results[\"predicted_binding_affinity\"] = predicted_binding_affinity"
      ],
      "metadata": {
        "id": "JaMedAp4bJ13"
      },
      "execution_count": 49,
      "outputs": []
    },
    {
      "cell_type": "code",
      "source": [
        "# # Print the updated DataFrame\n",
        "# print(autodock_results)\n",
        "# print(predicted_binding_affinity)"
      ],
      "metadata": {
        "colab": {
          "base_uri": "https://localhost:8080/"
        },
        "id": "c5h00H6nbpPq",
        "outputId": "b41cacb8-1c25-4713-e3f8-13bcc859c2ea"
      },
      "execution_count": 50,
      "outputs": [
        {
          "output_type": "stream",
          "name": "stdout",
          "text": [
            "   electrostatic (kcal/mol)  electrostatic_sd (kcal/mol)  \\\n",
            "0                         0                            0   \n",
            "\n",
            "   polar_solvation (kcal/mol)  polar_solvation_sd (kcal/mol)  \\\n",
            "0                     0.27894                        0.33314   \n",
            "\n",
            "   non_polar_solvation (kcal/mol)  non_polar_solvation_sd (kcal/mol)  \\\n",
            "0                         0.99094                             0.4344   \n",
            "\n",
            "   vdW (kcal/mol)  predicted_binding_affinity  \n",
            "0        -7.49766                   -6.137379  \n",
            "[-6.13737894]\n"
          ]
        }
      ]
    },
    {
      "cell_type": "code",
      "source": [
        "# # Create a new DataFrame with the predicted and actual binding affinity values for the training data\n",
        "# predicted_vs_actual_train = pd.DataFrame({'predicted_binding_affinity': model.predict(X_train), 'binding_affinity': y_train})\n",
        "\n",
        "# # Use seaborn's pairplot function to create a scatterplot matrix\n",
        "# sns.pairplot(predicted_vs_actual_train)\n",
        "# plt.show()"
      ],
      "metadata": {
        "colab": {
          "base_uri": "https://localhost:8080/",
          "height": 513
        },
        "id": "XAoROoZIblZN",
        "outputId": "0c39ecb6-3c55-4c04-f0d7-a341a19a8e68"
      },
      "execution_count": 51,
      "outputs": [
        {
          "output_type": "display_data",
          "data": {
            "text/plain": [
              "<Figure size 500x500 with 6 Axes>"
            ],
            "image/png": "[encoded data removed]"
          },
          "metadata": {}
        }
      ]
    },
    {
      "cell_type": "code",
      "source": [
        "# threshold = -8.0\n",
        "# autodock_results['binders'] = autodock_results['predicted_binding_affinity'].apply(lambda x: x <= threshold)\n",
        "# print(\"Number of binders:\", autodock_results['binders'].sum())\n",
        "# print(\"Number of non-binders:\", len(autodock_results) - autodock_results['binders'].sum())"
      ],
      "metadata": {
        "colab": {
          "base_uri": "https://localhost:8080/"
        },
        "id": "lq9vJUXdbKlN",
        "outputId": "44333237-71c3-485c-b219-fd2406cf1885"
      },
      "execution_count": 52,
      "outputs": [
        {
          "output_type": "stream",
          "name": "stdout",
          "text": [
            "Number of binders: 0\n",
            "Number of non-binders: 1\n"
          ]
        }
      ]
    },
    {
      "cell_type": "code",
      "source": [
        "# for index, row in autodock_results.iterrows():\n",
        "#     if row['predicted_binding_affinity'] <= threshold:\n",
        "#         print(f\"Complex {index} is a binder\")\n",
        "#     else:\n",
        "#         print(f\"Complex {index} is a non-binder\")"
      ],
      "metadata": {
        "colab": {
          "base_uri": "https://localhost:8080/"
        },
        "id": "rl_RPFaDbh5w",
        "outputId": "f9c024cb-b405-41f1-f7ad-d590bc328c12"
      },
      "execution_count": 53,
      "outputs": [
        {
          "output_type": "stream",
          "name": "stdout",
          "text": [
            "Complex 0 is a non-binder\n"
          ]
        }
      ]
    }
  ]
}